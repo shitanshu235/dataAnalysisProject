{
 "cells": [
  {
   "cell_type": "code",
   "execution_count": 1,
   "id": "11248c81",
   "metadata": {},
   "outputs": [
    {
     "name": "stdout",
     "output_type": "stream",
     "text": [
      "Error: Unable to fetch content from https://insights.blackcoffer.com/how-neural-networks-can-be-applied-in-various-areas-in-the-future/\n",
      "Error: Unable to fetch content from https://insights.blackcoffer.com/covid-19-environmental-impact-for-the-future/\n",
      "Extraction complete. Results saved to output.xlsx\n"
     ]
    }
   ],
   "source": [
    "import requests\n",
    "from bs4 import BeautifulSoup\n",
    "import pandas as pd\n",
    "\n",
    "def extract_article(url):\n",
    "    # Send a GET request to the URL\n",
    "    response = requests.get(url)\n",
    "\n",
    "    # Check if the request was successful\n",
    "    if response.status_code == 200:\n",
    "        # Parse the HTML content using BeautifulSoup\n",
    "        soup = BeautifulSoup(response.text, 'html.parser')\n",
    "\n",
    "        # Extract the title and text\n",
    "        title = soup.title.text.strip() if soup.title else \"No title found\"\n",
    "\n",
    "        # Find all paragraphs in the article and join them\n",
    "        paragraphs = [p.text.strip() for p in soup.find_all('p')]\n",
    "        text = '\\n'.join(paragraphs)\n",
    "\n",
    "        return title, text\n",
    "    else:\n",
    "        print(f\"Error: Unable to fetch content from {url}\")\n",
    "        return None, None\n",
    "\n",
    "# Read the Excel file with URLs\n",
    "excel_file_path = 'Input.xlsx'  # Change this to your Excel file path\n",
    "df = pd.read_excel(excel_file_path)\n",
    "\n",
    "# Create empty columns for title and text\n",
    "df['Title'] = ''\n",
    "df['Text'] = ''\n",
    "\n",
    "# Extract title and text for each URL\n",
    "for index, row in df.iterrows():\n",
    "    url = row['URL']\n",
    "    title, text = extract_article(url)\n",
    "    df.at[index, 'Title'] = title\n",
    "    df.at[index, 'Text'] = text\n",
    "      \n",
    "\n",
    "# Save the updated DataFrame to a new Excel file\n",
    "output_file_path = 'output.xlsx'\n",
    "df.to_excel(output_file_path, index=False)\n",
    "\n",
    "print(f\"Extraction complete. Results saved to {output_file_path}\")\n"
   ]
  },
  {
   "cell_type": "code",
   "execution_count": null,
   "id": "dcbaac31",
   "metadata": {},
   "outputs": [],
   "source": [
    "pip install pandas openpyxl textblob\n"
   ]
  },
  {
   "cell_type": "code",
   "execution_count": 3,
   "id": "8ccca7e3",
   "metadata": {},
   "outputs": [
    {
     "name": "stdout",
     "output_type": "stream",
     "text": [
      "Sentiment analysis results saved to output_sentiment_analysis.xlsx\n"
     ]
    }
   ],
   "source": [
    "import pandas as pd\n",
    "from textblob import TextBlob\n",
    "\n",
    "def analyze_sentiment(text):\n",
    "    blob = TextBlob(text)\n",
    "    sentiment_polarity = blob.sentiment.polarity\n",
    "    \n",
    "    if sentiment_polarity > 0:\n",
    "        sentiment = \"Positive\"\n",
    "    elif sentiment_polarity < 0:\n",
    "        sentiment = \"Negative\"\n",
    "    else:\n",
    "        sentiment = \"Neutral\"\n",
    "    \n",
    "    return sentiment, sentiment_polarity\n",
    "\n",
    "# Replace 'your_file.xlsx' with the path to your Excel file\n",
    "input_excel_file = 'output.xlsx'\n",
    "\n",
    "# Read the Excel file into a DataFrame\n",
    "df = pd.read_excel(input_excel_file)\n",
    "\n",
    "# Apply sentiment analysis to each row in the DataFrame\n",
    "df['Sentiment'], df['Sentiment Polarity'] = zip(*df['Text'].apply(analyze_sentiment).tolist())\n",
    "\n",
    "# Save the updated DataFrame to a new Excel file\n",
    "output_excel_file = 'output_sentiment_analysis.xlsx'\n",
    "df.to_excel(output_excel_file, index=False)\n",
    "\n",
    "# List of columns to exclude\n",
    "columns_to_exclude = ['URL_ID','URL','Title','Text']\n",
    "\n",
    "# Exclude specified columns when writing to Excel\n",
    "output_excel_file = 'output_sentiment_analysis.xlsx'\n",
    "df.drop(columns=columns_to_exclude).to_excel(output_excel_file, index=False)\n",
    "\n",
    "\n",
    "print(f\"Sentiment analysis results saved to {output_excel_file}\")\n"
   ]
  },
  {
   "cell_type": "code",
   "execution_count": null,
   "id": "4274e8a5",
   "metadata": {},
   "outputs": [],
   "source": [
    "import nltk\n",
    "nltk.download('punkt')"
   ]
  },
  {
   "cell_type": "code",
   "execution_count": 4,
   "id": "c8313b24",
   "metadata": {},
   "outputs": [
    {
     "name": "stdout",
     "output_type": "stream",
     "text": [
      "Gunning Fog Index results saved to output_gunning_fog_index.xlsx\n"
     ]
    }
   ],
   "source": [
    "import re\n",
    "import pandas as pd\n",
    "from textblob import TextBlob\n",
    "\n",
    "def calculate_gunning_fog_index(text):\n",
    "    sentences = TextBlob(text).sentences\n",
    "    total_words = 0\n",
    "    complex_words = 0\n",
    "    \n",
    "    for sentence in sentences:\n",
    "        words = sentence.words\n",
    "        total_words += len(words)\n",
    "        \n",
    "        for word in words:\n",
    "            if len(re.findall(r'\\b\\w+\\b', str(word))) >= 3:  # Check if the word has three or more syllables\n",
    "                complex_words += 1\n",
    "\n",
    "    if total_words > 0:\n",
    "        fog_index = 0.4 * ((total_words / len(sentences)) + (100 * (complex_words / total_words)))\n",
    "        return fog_index\n",
    "    else:\n",
    "        return 0\n",
    "\n",
    "# Replace 'your_file.xlsx' with the path to your Excel file\n",
    "input_excel_file = 'output.xlsx'\n",
    "\n",
    "# Read the Excel file into a DataFrame\n",
    "df = pd.read_excel(input_excel_file)\n",
    "\n",
    "# Apply Gunning Fog Index calculation to each row in the DataFrame\n",
    "df['Gunning Fog Index'] = df['Text'].apply(calculate_gunning_fog_index)\n",
    "\n",
    "# Save the updated DataFrame to a new Excel file\n",
    "output_excel_file = 'output_gunning_fog_index.xlsx'\n",
    "df.to_excel(output_excel_file, index=False)\n",
    "\n",
    "# List of columns to exclude\n",
    "columns_to_exclude = ['URL_ID','URL','Title','Text']\n",
    "\n",
    "# Exclude specified columns when writing to Excel\n",
    "output_excel_file = 'output_gunning_fog_index.xlsx'\n",
    "df.drop(columns=columns_to_exclude).to_excel(output_excel_file, index=False)\n",
    "\n",
    "print(f\"Gunning Fog Index results saved to {output_excel_file}\")"
   ]
  },
  {
   "cell_type": "code",
   "execution_count": 5,
   "id": "8ee78137",
   "metadata": {},
   "outputs": [
    {
     "name": "stdout",
     "output_type": "stream",
     "text": [
      "Average Sentence Length results saved to output_avg_sentence_length.xlsx\n"
     ]
    }
   ],
   "source": [
    "import pandas as pd\n",
    "from textblob import TextBlob\n",
    "\n",
    "def calculate_average_sentence_length(text):\n",
    "    sentences = TextBlob(text).sentences\n",
    "    total_sentences = len(sentences)\n",
    "    \n",
    "    if total_sentences > 0:\n",
    "        total_words = sum(len(sentence.words) for sentence in sentences)\n",
    "        avg_sentence_length = total_words / total_sentences\n",
    "        return avg_sentence_length\n",
    "    else:\n",
    "        return 0\n",
    "\n",
    "# Replace 'your_file.xlsx' with the path to your Excel file\n",
    "input_excel_file = 'output.xlsx'\n",
    "\n",
    "# Read the Excel file into a DataFrame\n",
    "df = pd.read_excel(input_excel_file)\n",
    "\n",
    "# Apply average sentence length calculation to each row in the DataFrame\n",
    "df['Average Sentence Length'] = df['Text'].apply(calculate_average_sentence_length)\n",
    "\n",
    "# Save the updated DataFrame to a new Excel file\n",
    "output_excel_file = 'output_avg_sentence_length.xlsx'\n",
    "df.to_excel(output_excel_file, index=False)\n",
    "\n",
    "# List of columns to exclude\n",
    "columns_to_exclude = ['URL_ID','URL','Title','Text']\n",
    "\n",
    "# Exclude specified columns when writing to Excel\n",
    "output_excel_file = 'output_avg_sentence_length.xlsx'\n",
    "df.drop(columns=columns_to_exclude).to_excel(output_excel_file, index=False)\n",
    "\n",
    "print(f\"Average Sentence Length results saved to {output_excel_file}\")\n"
   ]
  },
  {
   "cell_type": "code",
   "execution_count": 6,
   "id": "2f4e4424",
   "metadata": {},
   "outputs": [
    {
     "name": "stdout",
     "output_type": "stream",
     "text": [
      "Subjectivity Score results saved to output_subjectivity_score.xlsx\n"
     ]
    }
   ],
   "source": [
    "import pandas as pd\n",
    "from textblob import TextBlob\n",
    "\n",
    "def calculate_subjectivity_score(text):\n",
    "    blob = TextBlob(text)\n",
    "    subjectivity = blob.sentiment.subjectivity\n",
    "    return subjectivity\n",
    "\n",
    "# Replace 'your_file.xlsx' with the path to your Excel file\n",
    "input_excel_file = 'output.xlsx'\n",
    "\n",
    "# Read the Excel file into a DataFrame\n",
    "df = pd.read_excel(input_excel_file)\n",
    "\n",
    "# Apply subjectivity score calculation to each row in the DataFrame\n",
    "df['Subjectivity Score'] = df['Text'].apply(calculate_subjectivity_score)\n",
    "\n",
    "# Save the updated DataFrame to a new Excel file\n",
    "output_excel_file = 'output_subjectivity_score.xlsx'\n",
    "df.to_excel(output_excel_file, index=False)\n",
    "\n",
    "# List of columns to exclude\n",
    "columns_to_exclude = ['URL_ID','URL','Title','Text']\n",
    "\n",
    "# Exclude specified columns when writing to Excel\n",
    "output_excel_file = 'output_subjectivity_score.xlsx'\n",
    "df.drop(columns=columns_to_exclude).to_excel(output_excel_file, index=False)\n",
    "\n",
    "\n",
    "print(f\"Subjectivity Score results saved to {output_excel_file}\")\n"
   ]
  },
  {
   "cell_type": "code",
   "execution_count": 7,
   "id": "238dd1f0",
   "metadata": {},
   "outputs": [
    {
     "name": "stdout",
     "output_type": "stream",
     "text": [
      "Percentage of Complex Words results saved to output_percentage_complex_words.xlsx\n"
     ]
    }
   ],
   "source": [
    "import pandas as pd\n",
    "import re\n",
    "from textblob import TextBlob\n",
    "\n",
    "def calculate_percentage_of_complex_words(text):\n",
    "    blob = TextBlob(text)\n",
    "    \n",
    "    # Count the total number of words and the number of complex words (three or more syllables)\n",
    "    words = blob.words\n",
    "    total_words = len(words)\n",
    "    complex_words = sum(len(re.findall(r'\\b\\w+\\b', str(word))) >= 3 for word in words)\n",
    "    \n",
    "    # Calculate the percentage of complex words\n",
    "    if total_words > 0:\n",
    "        percentage_complex_words = (complex_words / total_words) * 100\n",
    "        return percentage_complex_words\n",
    "    else:\n",
    "        return 0\n",
    "\n",
    "# Replace 'your_file.xlsx' with the path to your Excel file\n",
    "input_excel_file = 'output.xlsx'\n",
    "\n",
    "# Read the Excel file into a DataFrame\n",
    "df = pd.read_excel(input_excel_file)\n",
    "\n",
    "# Apply percentage of complex words calculation to each row in the DataFrame\n",
    "df['Percentage of Complex Words'] = df['Text'].apply(calculate_percentage_of_complex_words)\n",
    "\n",
    "# Save the updated DataFrame to a new Excel file\n",
    "output_excel_file = 'output_percentage_complex_words.xlsx'\n",
    "df.to_excel(output_excel_file, index=False)\n",
    "\n",
    "# List of columns to exclude\n",
    "columns_to_exclude = ['URL_ID','URL','Title','Text']\n",
    "\n",
    "# Exclude specified columns when writing to Excel\n",
    "output_excel_file = 'output_percentage_complex_words.xlsx'\n",
    "df.drop(columns=columns_to_exclude).to_excel(output_excel_file, index=False)\n",
    "\n",
    "\n",
    "print(f\"Percentage of Complex Words results saved to {output_excel_file}\")\n"
   ]
  },
  {
   "cell_type": "code",
   "execution_count": 8,
   "id": "834a5256",
   "metadata": {},
   "outputs": [
    {
     "name": "stdout",
     "output_type": "stream",
     "text": [
      "Average Word Count results saved to output_average_word_count.xlsx\n"
     ]
    }
   ],
   "source": [
    "import pandas as pd\n",
    "from textblob import TextBlob\n",
    "\n",
    "def calculate_average_word_count(text):\n",
    "    blob = TextBlob(text)\n",
    "    words = blob.words\n",
    "    word_count = len(words)\n",
    "    return word_count\n",
    "\n",
    "# Replace 'your_file.xlsx' with the path to your Excel file\n",
    "input_excel_file = 'output.xlsx'\n",
    "\n",
    "# Read the Excel file into a DataFrame\n",
    "df = pd.read_excel(input_excel_file)\n",
    "\n",
    "# Apply average word count calculation to each row in the DataFrame\n",
    "df['Average Word Count'] = df['Text'].apply(calculate_average_word_count)\n",
    "\n",
    "# Save the updated DataFrame to a new Excel file\n",
    "output_excel_file = 'output_average_word_count.xlsx'\n",
    "df.to_excel(output_excel_file, index=False)\n",
    "\n",
    "# List of columns to exclude\n",
    "columns_to_exclude = ['URL_ID','URL','Title','Text']\n",
    "\n",
    "# Exclude specified columns when writing to Excel\n",
    "output_excel_file = 'output_average_word_count.xlsx'\n",
    "df.drop(columns=columns_to_exclude).to_excel(output_excel_file, index=False)\n",
    "\n",
    "\n",
    "\n",
    "print(f\"Average Word Count results saved to {output_excel_file}\")\n"
   ]
  },
  {
   "cell_type": "code",
   "execution_count": 9,
   "id": "d30a0250",
   "metadata": {},
   "outputs": [
    {
     "name": "stdout",
     "output_type": "stream",
     "text": [
      "Complex Word Count results saved to output_complex_word_count.xlsx\n"
     ]
    }
   ],
   "source": [
    "import pandas as pd\n",
    "import re\n",
    "from textblob import TextBlob\n",
    "\n",
    "def calculate_complex_word_count(text):\n",
    "    blob = TextBlob(text)\n",
    "    \n",
    "    # Count the number of complex words (three or more syllables)\n",
    "    words = blob.words\n",
    "    complex_words_count = sum(len(re.findall(r'\\b\\w+\\b', str(word))) >= 3 for word in words)\n",
    "    \n",
    "    return complex_words_count\n",
    "\n",
    "# Replace 'your_file.xlsx' with the path to your Excel file\n",
    "input_excel_file = 'output.xlsx'\n",
    "\n",
    "# Read the Excel file into a DataFrame\n",
    "df = pd.read_excel(input_excel_file)\n",
    "\n",
    "# Apply complex word count calculation to each row in the DataFrame\n",
    "df['Complex Word Count'] = df['Text'].apply(calculate_complex_word_count)\n",
    "\n",
    "# Save the updated DataFrame to a new Excel file\n",
    "output_excel_file = 'output_complex_word_count.xlsx'\n",
    "df.to_excel(output_excel_file, index=False)\n",
    "\n",
    "# List of columns to exclude\n",
    "columns_to_exclude = ['URL_ID','URL','Title','Text']\n",
    "\n",
    "# Exclude specified columns when writing to Excel\n",
    "output_excel_file = 'output_complex_word_count.xlsx'\n",
    "df.drop(columns=columns_to_exclude).to_excel(output_excel_file, index=False)\n",
    "\n",
    "\n",
    "print(f\"Complex Word Count results saved to {output_excel_file}\")\n"
   ]
  },
  {
   "cell_type": "code",
   "execution_count": 10,
   "id": "1f82ec84",
   "metadata": {},
   "outputs": [
    {
     "name": "stdout",
     "output_type": "stream",
     "text": [
      "Word Count results saved to output_word_count.xlsx\n"
     ]
    }
   ],
   "source": [
    "import pandas as pd\n",
    "from textblob import TextBlob\n",
    "\n",
    "def calculate_word_count(text):\n",
    "    blob = TextBlob(text)\n",
    "    words = blob.words\n",
    "    word_count = len(words)\n",
    "    return word_count\n",
    "\n",
    "# Replace 'your_file.xlsx' with the path to your Excel file\n",
    "input_excel_file = 'output.xlsx'\n",
    "\n",
    "# Read the Excel file into a DataFrame\n",
    "df = pd.read_excel(input_excel_file)\n",
    "\n",
    "# Apply word count calculation to each row in the DataFrame\n",
    "df['Word Count'] = df['Text'].apply(calculate_word_count)\n",
    "\n",
    "# Save the updated DataFrame to a new Excel file\n",
    "output_excel_file = 'output_word_count.xlsx'\n",
    "df.to_excel(output_excel_file, index=False)\n",
    "\n",
    "# List of columns to exclude\n",
    "columns_to_exclude = ['URL_ID','URL','Title','Text']\n",
    "\n",
    "# Exclude specified columns when writing to Excel\n",
    "output_excel_file = 'output_word_count.xlsx'\n",
    "df.drop(columns=columns_to_exclude).to_excel(output_excel_file, index=False)\n",
    "\n",
    "\n",
    "print(f\"Word Count results saved to {output_excel_file}\")\n"
   ]
  },
  {
   "cell_type": "code",
   "execution_count": 11,
   "id": "5b33df2d",
   "metadata": {},
   "outputs": [
    {
     "name": "stdout",
     "output_type": "stream",
     "text": [
      "Average Word Length results saved to output_average_word_length.xlsx\n"
     ]
    }
   ],
   "source": [
    "import pandas as pd\n",
    "from textblob import TextBlob\n",
    "\n",
    "def calculate_average_word_length(text):\n",
    "    blob = TextBlob(text)\n",
    "    words = blob.words\n",
    "    \n",
    "    # Calculate total characters and total words\n",
    "    total_characters = sum(len(word) for word in words)\n",
    "    total_words = len(words)\n",
    "    \n",
    "    # Calculate average word length\n",
    "    if total_words > 0:\n",
    "        avg_word_length = total_characters / total_words\n",
    "        return avg_word_length\n",
    "    else:\n",
    "        return 0\n",
    "\n",
    "# Replace 'your_file.xlsx' with the path to your Excel file\n",
    "input_excel_file = 'output.xlsx'\n",
    "\n",
    "# Read the Excel file into a DataFrame\n",
    "df = pd.read_excel(input_excel_file)\n",
    "\n",
    "# Apply average word length calculation to each row in the DataFrame\n",
    "df['Average Word Length'] = df['Text'].apply(calculate_average_word_length)\n",
    "\n",
    "# Save the updated DataFrame to a new Excel file\n",
    "output_excel_file = 'output_average_word_length.xlsx'\n",
    "df.to_excel(output_excel_file, index=False)\n",
    "\n",
    "# List of columns to exclude\n",
    "columns_to_exclude = ['URL_ID','URL','Title','Text']\n",
    "\n",
    "# Exclude specified columns when writing to Excel\n",
    "output_excel_file = 'output_average_word_length.xlsx'\n",
    "df.drop(columns=columns_to_exclude).to_excel(output_excel_file, index=False)\n",
    "\n",
    "print(f\"Average Word Length results saved to {output_excel_file}\")\n"
   ]
  },
  {
   "cell_type": "code",
   "execution_count": null,
   "id": "962efa01",
   "metadata": {},
   "outputs": [],
   "source": [
    "pip install pyphen"
   ]
  },
  {
   "cell_type": "code",
   "execution_count": 12,
   "id": "2ab45183",
   "metadata": {},
   "outputs": [
    {
     "name": "stdout",
     "output_type": "stream",
     "text": [
      "Syllables Per Word results saved to output_syllables_per_word.xlsx\n"
     ]
    }
   ],
   "source": [
    "import pandas as pd\n",
    "from textblob import TextBlob\n",
    "import pyphen\n",
    "\n",
    "def calculate_syllables_per_word(text):\n",
    "    blob = TextBlob(text)\n",
    "    words = blob.words\n",
    "    \n",
    "    # Initialize Pyphen for syllable counting\n",
    "    dic = pyphen.Pyphen(lang='en')\n",
    "\n",
    "    # Calculate total syllables and total words\n",
    "    total_syllables = sum(len(dic.inserted(word).split('-')) for word in words)\n",
    "    total_words = len(words)\n",
    "    \n",
    "    # Calculate average syllables per word\n",
    "    if total_words > 0:\n",
    "        avg_syllables_per_word = total_syllables / total_words\n",
    "        return avg_syllables_per_word\n",
    "    else:\n",
    "        return 0\n",
    "\n",
    "# Replace 'your_file.xlsx' with the path to your Excel file\n",
    "input_excel_file = 'output.xlsx'\n",
    "\n",
    "# Read the Excel file into a DataFrame\n",
    "df = pd.read_excel(input_excel_file)\n",
    "\n",
    "# Apply syllables per word calculation to each row in the DataFrame\n",
    "df['Syllables Per Word'] = df['Text'].apply(calculate_syllables_per_word)\n",
    "\n",
    "# Save the updated DataFrame to a new Excel file\n",
    "output_excel_file = 'output_syllables_per_word.xlsx'\n",
    "df.to_excel(output_excel_file, index=False)\n",
    "\n",
    "# List of columns to exclude\n",
    "columns_to_exclude = ['URL_ID','URL','Title','Text']\n",
    "\n",
    "# Exclude specified columns when writing to Excel\n",
    "output_excel_file = 'output_syllables_per_word.xlsx'\n",
    "df.drop(columns=columns_to_exclude).to_excel(output_excel_file, index=False)\n",
    "\n",
    "\n",
    "print(f\"Syllables Per Word results saved to {output_excel_file}\")\n"
   ]
  },
  {
   "cell_type": "code",
   "execution_count": 13,
   "id": "cdc10bbc",
   "metadata": {},
   "outputs": [
    {
     "name": "stdout",
     "output_type": "stream",
     "text": [
      "Positive Score results saved to output_positive_score.xlsx\n"
     ]
    }
   ],
   "source": [
    "import pandas as pd\n",
    "from textblob import TextBlob\n",
    "\n",
    "def calculate_positive_score(text):\n",
    "    blob = TextBlob(text)\n",
    "    sentiment_polarity = blob.sentiment.polarity\n",
    "    \n",
    "    # You can customize the threshold based on your criteria\n",
    "    positive_threshold = 0.2\n",
    "    \n",
    "    if sentiment_polarity > positive_threshold:\n",
    "        return sentiment_polarity\n",
    "    else:\n",
    "        return 0\n",
    "\n",
    "# Replace 'your_file.xlsx' with the path to your Excel file\n",
    "input_excel_file = 'output.xlsx'\n",
    "\n",
    "# Read the Excel file into a DataFrame\n",
    "df = pd.read_excel(input_excel_file)\n",
    "\n",
    "# Apply positive score calculation to each row in the DataFrame\n",
    "df['Positive Score'] = df['Text'].apply(calculate_positive_score)\n",
    "\n",
    "# Save the updated DataFrame to a new Excel file\n",
    "output_excel_file = 'output_positive_score.xlsx'\n",
    "df.to_excel(output_excel_file, index=False)\n",
    "\n",
    "# List of columns to exclude\n",
    "columns_to_exclude = ['URL_ID','URL','Title','Text']\n",
    "\n",
    "# Exclude specified columns when writing to Excel\n",
    "output_excel_file = 'output_positive_score.xlsx'\n",
    "df.drop(columns=columns_to_exclude).to_excel(output_excel_file, index=False)\n",
    "\n",
    "\n",
    "\n",
    "\n",
    "print(f\"Positive Score results saved to {output_excel_file}\")\n"
   ]
  },
  {
   "cell_type": "code",
   "execution_count": 14,
   "id": "3da7a2e5",
   "metadata": {},
   "outputs": [
    {
     "name": "stdout",
     "output_type": "stream",
     "text": [
      "Negative Score results saved to output_negative_score.xlsx\n"
     ]
    }
   ],
   "source": [
    "import pandas as pd\n",
    "from textblob import TextBlob\n",
    "\n",
    "def calculate_negative_score(text):\n",
    "    blob = TextBlob(text)\n",
    "    sentiment_polarity = blob.sentiment.polarity\n",
    "    \n",
    "    # You can customize the threshold based on your criteria\n",
    "    negative_threshold = -0.2\n",
    "    \n",
    "    if sentiment_polarity < negative_threshold:\n",
    "        return sentiment_polarity\n",
    "    else:\n",
    "        return 0\n",
    "\n",
    "# Replace 'your_file.xlsx' with the path to your Excel file\n",
    "input_excel_file = 'output.xlsx'\n",
    "\n",
    "# Read the Excel file into a DataFrame\n",
    "df = pd.read_excel(input_excel_file)\n",
    "\n",
    "# Apply negative score calculation to each row in the DataFrame\n",
    "df['Negative Score'] = df['Text'].apply(calculate_negative_score)\n",
    "\n",
    "# Save the updated DataFrame to a new Excel file\n",
    "output_excel_file = 'output_negative_score.xlsx'\n",
    "df.to_excel(output_excel_file, index=False)\n",
    "\n",
    "# List of columns to exclude\n",
    "columns_to_exclude = ['URL_ID','URL','Title','Text']\n",
    "\n",
    "# Exclude specified columns when writing to Excel\n",
    "output_excel_file =  'output_negative_score.xlsx'\n",
    "df.drop(columns=columns_to_exclude).to_excel(output_excel_file, index=False)\n",
    "\n",
    "\n",
    "print(f\"Negative Score results saved to {output_excel_file}\")\n"
   ]
  },
  {
   "cell_type": "code",
   "execution_count": 15,
   "id": "dcaecdf8",
   "metadata": {},
   "outputs": [
    {
     "name": "stdout",
     "output_type": "stream",
     "text": [
      "Polarity Score results saved to output_polarity_score.xlsx\n"
     ]
    }
   ],
   "source": [
    "import pandas as pd\n",
    "from textblob import TextBlob\n",
    "\n",
    "def calculate_polarity_score(text):\n",
    "    blob = TextBlob(text)\n",
    "    sentiment_polarity = blob.sentiment.polarity\n",
    "    return sentiment_polarity\n",
    "\n",
    "# Replace 'your_file.xlsx' with the path to your Excel file\n",
    "input_excel_file = 'output.xlsx'\n",
    "\n",
    "# Read the Excel file into a DataFrame\n",
    "df = pd.read_excel(input_excel_file)\n",
    "\n",
    "# Apply polarity score calculation to each row in the DataFrame\n",
    "df['Polarity Score'] = df['Text'].apply(calculate_polarity_score)\n",
    "\n",
    "# Save the updated DataFrame to a new Excel file\n",
    "output_excel_file = 'output_polarity_score.xlsx'\n",
    "df.to_excel(output_excel_file, index=False)\n",
    "\n",
    "# List of columns to exclude\n",
    "columns_to_exclude = ['URL_ID','URL','Title','Text']\n",
    "\n",
    "# Exclude specified columns when writing to Excel\n",
    "output_excel_file =  'output_polarity_score.xlsx'\n",
    "df.drop(columns=columns_to_exclude).to_excel(output_excel_file, index=False)\n",
    "\n",
    "\n",
    "\n",
    "print(f\"Polarity Score results saved to {output_excel_file}\")\n"
   ]
  },
  {
   "cell_type": "code",
   "execution_count": 18,
   "id": "29aeb9a0",
   "metadata": {},
   "outputs": [
    {
     "name": "stdout",
     "output_type": "stream",
     "text": [
      "Appended data saved to C:\\Users\\shita\\append_n\\blackCofferFinalOutput.xlsx\n"
     ]
    }
   ],
   "source": [
    "import pandas as pd\n",
    "import glob\n",
    "\n",
    "# Specify the path to the folder containing Excel files\n",
    "folder_path = (r'C:\\Users\\shita\\append')\n",
    "\n",
    "# Get a list of all Excel files in the specified folder\n",
    "excel_files = glob.glob(f\"{folder_path}/*.xlsx\")\n",
    "\n",
    "# Initialize an empty DataFrame to store the appended data\n",
    "appended_data = pd.DataFrame()\n",
    "\n",
    "# Iterate through each Excel file and append its data to the DataFrame\n",
    "for file in excel_files:\n",
    "    df = pd.read_excel(file)\n",
    "    appended_data = pd.concat([appended_data, df], axis=1)\n",
    "\n",
    "# Specify the path for the output Excel file\n",
    "output_excel_file = (r'C:\\Users\\shita\\append_n\\blackCofferFinalOutput.xlsx')\n",
    "\n",
    "# Save the appended data to a new Excel file\n",
    "appended_data.to_excel(output_excel_file, index=False)\n",
    "\n",
    "print(f\"Appended data saved to {output_excel_file}\")\n"
   ]
  },
  {
   "cell_type": "code",
   "execution_count": null,
   "id": "6c356b38",
   "metadata": {},
   "outputs": [],
   "source": []
  }
 ],
 "metadata": {
  "kernelspec": {
   "display_name": "Python 3 (ipykernel)",
   "language": "python",
   "name": "python3"
  },
  "language_info": {
   "codemirror_mode": {
    "name": "ipython",
    "version": 3
   },
   "file_extension": ".py",
   "mimetype": "text/x-python",
   "name": "python",
   "nbconvert_exporter": "python",
   "pygments_lexer": "ipython3",
   "version": "3.11.3"
  }
 },
 "nbformat": 4,
 "nbformat_minor": 5
}
